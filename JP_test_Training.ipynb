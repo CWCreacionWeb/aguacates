{
 "cells": [
  {
   "cell_type": "code",
   "execution_count": 3,
   "id": "8148d709-72b0-488a-a9be-48b8333d56b5",
   "metadata": {
    "scrolled": true
   },
   "outputs": [],
   "source": [
    "import P_Aguacate as P"
   ]
  },
  {
   "cell_type": "code",
   "execution_count": 4,
   "id": "a9bc2ae6-889e-452f-b102-d2fd40ba3001",
   "metadata": {},
   "outputs": [
    {
     "name": "stdout",
     "output_type": "stream",
     "text": [
      "**********************************\n",
      "Cargando fichero :datos/avocado.csv\n",
      "numero Registros :18249\n",
      "numero Columnas :14\n",
      "**********************************\n",
      "\n"
     ]
    },
    {
     "data": {
      "text/markdown": [
       "\n",
       "\n",
       "- **Añade las siguientes columnas a la tabla**: \n",
       "    - **CalFecha:** Convierte el campo dato de un string con formato yyyy-mm-dd \n",
       "    - **CalYear:** Componente Year de la fecha\n",
       "    - **CalMes:** Componente Mes de la fecha  \n",
       "    \n",
       "**Validaciónes**  \n",
       "  **errores_conversion CalFecha:** 0"
      ],
      "text/plain": [
       "<IPython.core.display.Markdown object>"
      ]
     },
     "metadata": {},
     "output_type": "display_data"
    },
    {
     "data": {
      "text/markdown": [
       "\n",
       "\n",
       "- **PreparacionDatosSegmentacion** Añade las siguientes columnas de Segmentación a la tabla: \n",
       "    - **CalRegionGrupo:** Agrupación de region en `City,Region,GreaterRegion,TotalUS`\n",
       "    - **CalEstacion:** Estación del año para ese mes, `Verano,Otoño etc`\n",
       "    "
      ],
      "text/plain": [
       "<IPython.core.display.Markdown object>"
      ]
     },
     "metadata": {},
     "output_type": "display_data"
    },
    {
     "data": {
      "text/markdown": [
       "\n",
       "- **PreparacionDatosClasificacionVolumen**  A partir del volumen, calcula el peso de cada region\n",
       "    - **CalRegion_Total_Volume:** Total Volumen de la región\n",
       "    - **CalRegion_Porcentaje:** Porcentaje sobre el total\n",
       "    - **CalRegion_Acumulado_Total_Volume:** Acumulado a efectos de ordenación\n",
       "    - **CalRegion_Acumulado_Porcentaje:** Acumulado a efectos de ordenación\n",
       "\n",
       "De este dataFrame obtenido, se desnormaliza y añade a los datos estos campos.\n",
       "\n",
       "    "
      ],
      "text/plain": [
       "<IPython.core.display.Markdown object>"
      ]
     },
     "metadata": {},
     "output_type": "display_data"
    },
    {
     "name": "stdout",
     "output_type": "stream",
     "text": [
      "\n",
      "Len filtrado\n",
      "18249\n",
      "p_aguacate\n",
      "0       2015-12-27\n",
      "1       2015-12-20\n",
      "2       2015-12-13\n",
      "3       2015-12-06\n",
      "4       2015-11-29\n",
      "           ...    \n",
      "18244   2018-02-04\n",
      "18245   2018-01-28\n",
      "18246   2018-01-21\n",
      "18247   2018-01-14\n",
      "18248   2018-01-07\n",
      "Name: CalFecha, Length: 18249, dtype: datetime64[ns]\n"
     ]
    }
   ],
   "source": [
    "P.Inicio()\n",
    "#P.DatosORG\n",
    "#P.DatosRegionClasificacionVolumen\n"
   ]
  },
  {
   "cell_type": "code",
   "execution_count": 6,
   "id": "8334897c-8ec5-4116-a4ec-11d762a43ae2",
   "metadata": {},
   "outputs": [],
   "source": [
    "P.P99_T.P100_1_Modelo_TRAINING_Mod(True)"
   ]
  },
  {
   "cell_type": "code",
   "execution_count": null,
   "id": "718507e4-fea5-4c1a-9979-c51d69f19133",
   "metadata": {},
   "outputs": [],
   "source": []
  }
 ],
 "metadata": {
  "kernelspec": {
   "display_name": "Python 3 (ipykernel)",
   "language": "python",
   "name": "python3"
  },
  "language_info": {
   "codemirror_mode": {
    "name": "ipython",
    "version": 3
   },
   "file_extension": ".py",
   "mimetype": "text/x-python",
   "name": "python",
   "nbconvert_exporter": "python",
   "pygments_lexer": "ipython3",
   "version": "3.8.10"
  }
 },
 "nbformat": 4,
 "nbformat_minor": 5
}
