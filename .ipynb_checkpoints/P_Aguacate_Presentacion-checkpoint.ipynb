{
 "cells": [
  {
   "cell_type": "code",
   "execution_count": null,
   "id": "8148d709-72b0-488a-a9be-48b8333d56b5",
   "metadata": {},
   "outputs": [],
   "source": [
    "import P_Aguacate as P"
   ]
  },
  {
   "cell_type": "code",
   "execution_count": null,
   "id": "816b1d7c-e5cf-4612-9d02-f77f3827a83d",
   "metadata": {},
   "outputs": [],
   "source": [
    "P.DOC()"
   ]
  },
  {
   "cell_type": "code",
   "execution_count": null,
   "id": "a9bc2ae6-889e-452f-b102-d2fd40ba3001",
   "metadata": {},
   "outputs": [],
   "source": [
    "P.Inicio()\n",
    "#P.DatosORG\n",
    "#P.DatosRegionClasificacionVolumen\n"
   ]
  },
  {
   "cell_type": "code",
   "execution_count": null,
   "id": "30e646cc-2c19-497d-8480-58fb8a9fd5b2",
   "metadata": {},
   "outputs": [],
   "source": [
    "P.P1.DOC()"
   ]
  },
  {
   "cell_type": "code",
   "execution_count": null,
   "id": "0f64077e-f5a2-46c8-aa72-fa98ef47b2aa",
   "metadata": {},
   "outputs": [],
   "source": [
    "#P.P1.Datos\n",
    "#P.P1.P1_CfgListView()"
   ]
  },
  {
   "cell_type": "code",
   "execution_count": null,
   "id": "35710eab-73be-49f4-a4f2-1efb7d42ecd5",
   "metadata": {
    "scrolled": true
   },
   "outputs": [],
   "source": [
    "#P.DatosRegionClasificacionVolumen\n"
   ]
  },
  {
   "cell_type": "code",
   "execution_count": null,
   "id": "c363bc63-8fd5-47ef-97b9-e3cad280923b",
   "metadata": {},
   "outputs": [],
   "source": [
    "P.P1.P1_1_DescomposicionSerieTemporal(52,'AveragePrice')\n",
    "#P.P1.P1_1_DescomposicionSerieTemporal(52,'Total Volume')\n",
    "\n",
    "#P.P1.P1_1_DescomposicionSerieTemporal(4,'AveragePrice')\n",
    "#P.P1.P1_1_DescomposicionSerieTemporal(4,'Total Volume')\n"
   ]
  },
  {
   "cell_type": "code",
   "execution_count": null,
   "id": "5bf9c5f3-edcc-4b79-81af-41ecf3f569ce",
   "metadata": {},
   "outputs": [],
   "source": [
    "P.P1.Datos = P.DatosORG[(P.DatosORG['CalRegionGrupo'].isin(['GreaterRegion'])) ]\n",
    "#P.P1.Datos = P.DatosORG[(P.DatosORG['region'].isin(['California'])) ]\n",
    "P.P1.P1_2_EstacionalidadPorRegion()\n",
    "P.P1.Datos = P.DatosORG\n"
   ]
  },
  {
   "cell_type": "code",
   "execution_count": null,
   "id": "b2f620c7-476a-4205-a706-872e6902f776",
   "metadata": {},
   "outputs": [],
   "source": [
    "#P.P1.P1_3_ADD_Correlacion(3500000)\n",
    "P.P1.P1_3_ComparacionPreciosPromedioMensuales()"
   ]
  },
  {
   "cell_type": "code",
   "execution_count": null,
   "id": "0d4a8e8b-8627-48fe-a429-e01655b016b8",
   "metadata": {},
   "outputs": [],
   "source": [
    "P.P1.Datos = P.DatosORG\n",
    "#P.P1.Datos = P.DatosORG[(P.DatosORG['region'].isin(['California'])) ]\n",
    "P.P1.P1_4_TendenciaVentasALoLargoDelTiempo()"
   ]
  },
  {
   "cell_type": "code",
   "execution_count": null,
   "id": "e43623c3-9e8d-4e7c-8669-614139449469",
   "metadata": {},
   "outputs": [],
   "source": [
    "P.P1.Datos = P.DatosORG\n",
    "#P.P1.P1_5_AnalisisCambiosPreciosAnuales()\n",
    "P.P1.P1_5_AnalisisCambiosPreciosAnuales([2015, 2016, 2017,2018])\n",
    "P.P1.Datos = P.DatosORG[(P.DatosORG['CalMonth'].isin([1,2,3])) ]\n",
    "P.P1.P1_5_AnalisisCambiosPreciosAnuales([2015, 2016, 2017,2018])"
   ]
  },
  {
   "cell_type": "code",
   "execution_count": null,
   "id": "2a2b47ff-682f-4a52-a270-8bd05b888768",
   "metadata": {},
   "outputs": [],
   "source": [
    "P.PG.P21_Grafico_Violin_Volumen_Venta_Region()"
   ]
  },
  {
   "cell_type": "code",
   "execution_count": null,
   "id": "471f6c70-19f6-445c-b398-aa23e3193f3e",
   "metadata": {},
   "outputs": [],
   "source": [
    "P.P2.Datos = P.DatosORG[(P.DatosORG['CalYear'].isin([2015,2016,2017])) ]\n",
    "P.P2.P22_Boxplot_Comparativo_Precios_Entre_Años()"
   ]
  },
  {
   "cell_type": "code",
   "execution_count": null,
   "id": "14f695b8-d37f-4081-b4c2-11ca051d9d79",
   "metadata": {},
   "outputs": [],
   "source": [
    "from IPython.display import display, HTML\n",
    "P.P2.Datos = P.DatosORG\n",
    "P.P2.P23_Histograma_Volumen_Total_Ventas(30,True)\n",
    "display(HTML(\"<span style='font-size:20px; color:blue; font-style:italic;'>Filtrado Total Volume > 10.000.000 </span>\"))\n",
    "P.P2.Datos = P.DatosORG[(P.DatosORG['Total Volume'] > 10000000) ]\n",
    "P.P2.P23_Histograma_Volumen_Total_Ventas(30,True)"
   ]
  },
  {
   "cell_type": "code",
   "execution_count": null,
   "id": "03f6f3d3-a5fa-4644-8ddc-af4ca61a8c42",
   "metadata": {},
   "outputs": [],
   "source": [
    "P.P2.P24_Grafico_Barras_Ventas_Tipo_Bolsa()"
   ]
  },
  {
   "cell_type": "code",
   "execution_count": null,
   "id": "43c518ef-1674-4442-950d-d7489e72d9e4",
   "metadata": {},
   "outputs": [],
   "source": [
    "P.P2.P25_Grafico_Lineas_Precios_Promedios_Año([2015, 2016, 2017])"
   ]
  },
  {
   "cell_type": "code",
   "execution_count": null,
   "id": "24639392-710c-47eb-bbf8-7f238f3f143e",
   "metadata": {
    "scrolled": true
   },
   "outputs": [],
   "source": [
    "P.P3.Datos = P.DatosORG\n",
    "#P.P3.Datos = P.DatosORG[P.DatosORG['CalYear'].isin([ 2015,2016,2017])] \n",
    "#P.P3.Datos = P.DatosORG[(P.DatosORG['region'].isin(['TotalUS'])) ]\n",
    "print('Fintrado años [2015, 2016,2017]')\n",
    "P.P3.P3_1_Elasticidad_Precio_Demanda_Año(['TotalUS'])\n",
    "# Los valores positivos indican una alta elasticidad la demanda sube cuando sube el precio cada 1% que aumenta el precio la venta sube un 6%\n",
    "# mientras que en el 2016 indica todo lo contrario la demanda sube cuando baja el precio, cada 1% que aumenta el precio la venta baja un 4%"
   ]
  },
  {
   "cell_type": "code",
   "execution_count": null,
   "id": "8ad7088f-38f8-4fd0-87d3-bf23f6ad44af",
   "metadata": {},
   "outputs": [],
   "source": [
    "P.PG.P3_2_Elasticidad_Regiones()\n"
   ]
  },
  {
   "cell_type": "code",
   "execution_count": null,
   "id": "2df924b8-df7d-40cf-91f7-eaab1e60278b",
   "metadata": {},
   "outputs": [],
   "source": [
    "P.P3.Datos = P.DatosORG\n",
    "#print(len(P.DatosORG))\n",
    "#P.P3.Datos = P.DatosORG[(P.DatosORG['CalYear'].isin([2016,2017])) ]\n",
    "\n",
    "P.P3.P3_3_Elasticidad_BolsasB()\n",
    "\n",
    "vMsg=\"\"\"\n",
    "<b>NOTAS:</b>\n",
    "- <span style=\"color:blue;\">Se eliminan los años 2015 y 2018, al no estar completos darían cifras incorrectas.</span>\n",
    "- <span style=\"color:blue;\">Esto da como resultado 2 registros: 2016 y 2017. Eliminamos el registro 2016 ya que es 0, y la media sería errónea.</span>\n",
    "- <span style=\"color:blue;\">Calculando Elasticidad media de los 3 años, para Cada Tipo de Bolsa...</span>\n",
    "\n",
    "<table>\n",
    "<tr><th>CalYear</th><th>AveragePrice</th><th>Small Bags</th><th>Large Bags</th><th>XLarge Bags</th></tr>\n",
    "<tr><td>2016</td><td>1.338640</td><td>1.106494e+09</td><td>3.366263e+08</td><td>20038284.84</td></tr>\n",
    "<tr><td>2017</td><td>1.515128</td><td>1.222953e+09</td><td>3.993390e+08</td><td>23997172.34</td></tr>\n",
    "<tr><td>0</td><td>0.000000</td><td></td><td></td><td></td></tr>\n",
    "<tr><td>1</td><td>0.798307</td><td></td><td></td><td></td></tr>\n",
    "</table>\n",
    "\n",
    "<b># Calcular la elasticidad promedio</b>\n",
    "<pre>\n",
    "elasticidades_promedio = [\n",
    "    Datos_bolsas['Elasticidad_Small'].mean(),\n",
    "    Datos_bolsas['Elasticidad_Large'].mean(),\n",
    "    Datos_bolsas['Elasticidad_XLarge'].mean()\n",
    "]\n",
    "</pre>\n",
    "\n",
    "- <span style=\"color:blue;\">El gráfico muestra la media del resto de los años; en este caso, solo un registro.</span>\n",
    "\"\"\"\n",
    "from IPython.display import display, HTML\n",
    "P.P2.Datos = P.DatosORG\n",
    "display(HTML(vMsg))\n"
   ]
  },
  {
   "cell_type": "code",
   "execution_count": null,
   "id": "b0a17c16-c28b-4543-9a07-29499ba6642b",
   "metadata": {},
   "outputs": [],
   "source": [
    "P.P3.Datos = P.DatosORG\n",
    "#print(len(P.DatosORG))\n",
    "P.P3.Datos = P.DatosORG[(P.DatosORG['CalYear'].isin([2015,2016,2017,2018])) ]\n",
    "P.P3.P3_4_Elasticidad_Tipo()"
   ]
  },
  {
   "cell_type": "code",
   "execution_count": null,
   "id": "6a6db807-221d-4a80-9dea-f7c86b0a1dc0",
   "metadata": {},
   "outputs": [],
   "source": [
    "P.P3.Datos= P.DatosORG\n",
    "P.P3.P3_5_Elasticidad_Precio_Ventas()\n",
    "P.P3.Datos = P.DatosORG[(P.DatosORG['Total Volume'] < 10000000) ]\n",
    "P.P3.P3_5_Elasticidad_Precio_Ventas()"
   ]
  },
  {
   "cell_type": "code",
   "execution_count": null,
   "id": "1bf9b6fb-0558-488d-a104-15f67a37b143",
   "metadata": {},
   "outputs": [],
   "source": [
    "from IPython.display import display, HTML\n",
    "display(HTML(\"<span style='font-size:20px; color:red; font-style:italic;'>ERRONEO no se han definido Cohortes</span>\"))\n",
    "P.P4.P4_1_CohortesPreciosPromedios()\n"
   ]
  },
  {
   "cell_type": "code",
   "execution_count": null,
   "id": "090dcbcf-5417-4ca4-996d-0b897edb84cd",
   "metadata": {},
   "outputs": [],
   "source": [
    "from IPython.display import display, HTML\n",
    "display(HTML(\"<span style='font-size:20px; color:red; font-style:italic;'>ERRONEO no se han definido Cohortes</span>\"))\n",
    "\n",
    "P.P4.P4_2_CohortesRegionFechaB(['Albany','Boise'],2015)"
   ]
  },
  {
   "cell_type": "code",
   "execution_count": null,
   "id": "a65dcdca-08a8-4cba-8f64-74b0a668887a",
   "metadata": {},
   "outputs": [],
   "source": [
    "from IPython.display import display, HTML\n",
    "display(HTML(\"<span style='font-size:20px; color:red; font-style:italic;'>ERRONEO el tipo de Bolsa no es el Cohorte a analizar, sino la región</span>\"))\n",
    "\n",
    "P.P4.P4_3_CohortesTipoBolsa(['Small Bags','Large Bags','XLarge Bags'],'','NO')\n",
    "#P.P4.P4_3_CohortesTipoBolsa(['Small Bags','Large Bags','XLarge Bags'],'log','NO')\n",
    "P.P4.P4_3_CohortesTipoBolsa(['Small Bags','Large Bags','XLarge Bags'],'','SI')\n",
    "#P.P4.P4_3_CohortesTipoBolsa(['Small Bags','Large Bags','XLarge Bags'],'log','SI')\n",
    "#P.P4.P4_3_CohortesTipoBolsa(['XLarge Bags'],'','SI')"
   ]
  },
  {
   "cell_type": "code",
   "execution_count": null,
   "id": "8a6b5424-2d62-48c1-9fc8-a2c0c061f6be",
   "metadata": {},
   "outputs": [],
   "source": [
    "from IPython.display import display, HTML\n",
    "display(HTML(\"<span style='font-size:20px; color:blue; font-style:italic;'>Grafica con 3 rangos distintos<BR> 1 a 4%<BR> 15 a 30%<BR> 70 a 85%</span>\"))\n",
    "\n",
    "P.P4.P4_3_CohortesTipoBolsaB(['Small Bags', 'Large Bags', 'XLarge Bags'],'SI')"
   ]
  },
  {
   "cell_type": "code",
   "execution_count": null,
   "id": "a17da02b-7fa7-456d-8915-eb8d38e01fc1",
   "metadata": {},
   "outputs": [],
   "source": [
    "P.PG.P4_4_CohortesClientesVentas()"
   ]
  },
  {
   "cell_type": "code",
   "execution_count": null,
   "id": "47d48d84-74e1-4922-b686-9cb1bcb4352b",
   "metadata": {},
   "outputs": [],
   "source": [
    "display(HTML(\"<span style='font-size:20px; color:red; font-style:italic;'>ERRONEO no se han definido Cohortes</span>\"))\n",
    "P.P4.P4_5_RetencionVentasCohorte()"
   ]
  },
  {
   "cell_type": "code",
   "execution_count": null,
   "id": "fc15aff7-a987-4a8d-a929-ccb2ea52ff89",
   "metadata": {},
   "outputs": [],
   "source": [
    "P.P5.P5_1_MatrizCorrelacion(['AveragePrice', 'Total Volume', '4046', '4225', '4770', 'Total Bags','Small Bags','Large Bags','XLarge Bags','year'])\n",
    "P.P5.P5_1_MatrizCorrelacion(['AveragePrice', 'Total Volume', 'Total Bags','CalRegion_Total_Volume','CalRegion_Porcentaje','CalNOR_Z_TotalVolume','CalNOR_MM_TotalVolume'])"
   ]
  },
  {
   "cell_type": "code",
   "execution_count": null,
   "id": "b0026ebf-332b-4f30-ab0d-0a85e90a58d7",
   "metadata": {},
   "outputs": [],
   "source": [
    "P.P5.P5_2_AnalisisDispersión()\n",
    "P.P5.P5_2_AnalisisDispersiónN()\n",
    "#P.P5.Datos = P.DatosORG[(P.DatosORG['Total Volume'] < 10000000) ]\n",
    "#P.P5.P5_2_AnalisisDispersión()\n",
    "#P.P5.P5_2_AnalisisDispersiónN()\n"
   ]
  },
  {
   "cell_type": "code",
   "execution_count": null,
   "id": "5fa63064-b2e5-4fa1-aef5-f9e4cec80fcd",
   "metadata": {},
   "outputs": [],
   "source": [
    "from IPython.display import display, HTML\n",
    "P.P5.P5_3_PrediccionesMensuales()\n",
    "#P.P5.Datos = P.DatosORG[(P.DatosORG['CalYear'].isin([2015])) ]\n",
    "#P.P5.P5_3_PrediccionesMensuales()\n"
   ]
  },
  {
   "cell_type": "code",
   "execution_count": null,
   "id": "28251735-ded1-4e22-9549-9ce73e53105b",
   "metadata": {},
   "outputs": [],
   "source": [
    "P.P5.P5_4_PrediccionesTrimestrales()"
   ]
  },
  {
   "cell_type": "code",
   "execution_count": null,
   "id": "bef6c589-67d0-4df8-8e7b-391a6d74e854",
   "metadata": {},
   "outputs": [],
   "source": [
    "#P.P5.P5_5_PrediccionesAnuales(1)\n",
    "P.P5.P5_5_PrediccionesAnuales(2)\n",
    "mDes=\"\"\"\n",
    "## Análisis de Predicción y Precisión de Datos\n",
    "\n",
    "### 1. Total Volume\n",
    "\n",
    "#### Análisis con el año anterior:\n",
    "- **Predicción Lineal:** 915,241.06\n",
    "- **Predicción Polinómica:** 792,783.69\n",
    "- **R² Lineal:** 0.468 (aproximadamente)\n",
    "- **R² Polinómica:** -0.673 (aproximadamente)\n",
    "- **RMSE Lineal:** 77,312.02\n",
    "- **RMSE Polinómica:** 137,072.02\n",
    "\n",
    "#### Análisis con dos años anteriores:\n",
    "- **Predicción Lineal:** 1,013,206.96\n",
    "- **Predicción Polinómica:** 1,245,386.56\n",
    "- **R² Lineal:** 0.816 (aproximadamente)\n",
    "- **R² Polinómica:** -0.216 (aproximadamente)\n",
    "- **RMSE Lineal:** 45,509.37\n",
    "- **RMSE Polinómica:** 116,842.41\n",
    "\n",
    "### Interpretación para Total Volume:\n",
    "- **Precisión y ajuste del modelo:** \n",
    "  - Con un año de datos anteriores, el modelo lineal tiene un **R² de 0.468**, lo que sugiere un ajuste moderado, mientras que el modelo polinómico presenta un **R² negativo (-0.673)**, indicando que el modelo polinómico no es adecuado para estos datos.\n",
    "  - Con dos años de datos, el modelo lineal tiene un **R² de 0.816**, lo que indica un buen ajuste, mientras que el modelo polinómico sigue mostrando un **R² negativo (-0.216)**, lo que sugiere que este modelo es ineficaz.\n",
    "  \n",
    "- **Error medio cuadrático (RMSE):** \n",
    "  - El **RMSE** del modelo lineal con un año de datos es de 77,312.02, que es relativamente alto, lo que sugiere que las predicciones pueden tener un margen significativo de error.\n",
    "  - Con dos años de datos, el **RMSE** disminuye a 45,509.37, lo que indica una mejora en la precisión de las predicciones.\n",
    "\n",
    "### 2. Average Price\n",
    "\n",
    "#### Análisis con el año anterior:\n",
    "- **Predicción Lineal:** 1.5493\n",
    "- **Predicción Polinómica:** 1.9051\n",
    "- **R² Lineal:** -1.388 (aproximadamente)\n",
    "- **R² Polinómica:** -14.361 (aproximadamente)\n",
    "- **RMSE Lineal:** 0.1099\n",
    "- **RMSE Polinómica:** 0.2788\n",
    "\n",
    "#### Análisis con dos años anteriores:\n",
    "- **Predicción Lineal:** 1.2647\n",
    "- **Predicción Polinómica:** 1.1539\n",
    "- **R² Lineal:** -1.590 (aproximadamente)\n",
    "- **R² Polinómica:** -3.951 (aproximadamente)\n",
    "- **RMSE Lineal:** 0.1145\n",
    "- **RMSE Polinómica:** 0.1583\n",
    "\n",
    "### Interpretación para Average Price:\n",
    "- **Precisión y ajuste del modelo:** \n",
    "  - Ambos modelos (lineal y polinómico) presentan **R² negativos** en ambos casos, lo que indica que ninguno de los modelos se ajusta adecuadamente a los datos. Esto significa que las predicciones son muy poco fiables y que los modelos no están explicando la variación observada en los precios.\n",
    "  \n",
    "- **Error medio cuadrático (RMSE):** \n",
    "  - El **RMSE** es relativamente bajo para ambos modelos, lo que sugiere que, a pesar de la falta de ajuste, las predicciones no se desvían enormemente de los valores observados. Sin embargo, esto no debe considerarse una buena señal, ya que un modelo efectivo debería mostrar **R² positivos** junto con un **RMSE bajo**.\n",
    "\n",
    "### Conclusiones Generales:\n",
    "- Para **Total Volume**, el modelo lineal es más efectivo que el polinómico, especialmente cuando se utilizan dos años de datos anteriores, lo que mejora la precisión de las predicciones. Sin embargo, el **RMSE** aún sugiere que hay un margen de error considerable.\n",
    "- Para **Average Price**, ambos modelos fallan en proporcionar un ajuste adecuado (R² negativos), lo que indica que otros factores pueden estar influyendo en el precio que no están siendo capturados por estos modelos.\n",
    "- En general, podría ser beneficioso considerar otros enfoques de modelado o la inclusión de variables adicionales que puedan mejorar el ajuste de los modelos y, por ende, la calidad de las predicciones.\n",
    "\"\"\"\n",
    "from IPython.display import display, Markdown, HTML\n",
    "display(Markdown(mDes))\n"
   ]
  },
  {
   "cell_type": "code",
   "execution_count": null,
   "id": "346e75d5-926a-49bb-ba90-e5d703ee905f",
   "metadata": {},
   "outputs": [],
   "source": [
    "P.P5.P5_6_Modelos_Regresión_Múltiple()"
   ]
  },
  {
   "cell_type": "code",
   "execution_count": null,
   "id": "69cd6035-b177-4847-99d4-87d08cda8cd2",
   "metadata": {},
   "outputs": [],
   "source": [
    "P.P5.P5_7_CoefficientsRegresionMultiple()"
   ]
  },
  {
   "cell_type": "code",
   "execution_count": null,
   "id": "653faf6a-2d36-4ac2-8a5a-4ba49ee496b6",
   "metadata": {},
   "outputs": [],
   "source": [
    "P.P5.P5_8_VolumenVentas()\n",
    "P.P5.P5_8_Regresion_VolumenVentas()"
   ]
  },
  {
   "cell_type": "code",
   "execution_count": null,
   "id": "da95aee1-42d8-46d8-bcd0-b8c734058786",
   "metadata": {},
   "outputs": [],
   "source": [
    "P.P5.P5_9_AnalisisInfluenciaVentas()"
   ]
  },
  {
   "cell_type": "code",
   "execution_count": null,
   "id": "8334897c-8ec5-4116-a4ec-11d762a43ae2",
   "metadata": {},
   "outputs": [],
   "source": [
    "P.P5.P5_10_RegresionPrecioPromedioPorTipo()"
   ]
  },
  {
   "cell_type": "code",
   "execution_count": null,
   "id": "718507e4-fea5-4c1a-9979-c51d69f19133",
   "metadata": {},
   "outputs": [],
   "source": []
  }
 ],
 "metadata": {
  "kernelspec": {
   "display_name": "Python 3 (ipykernel)",
   "language": "python",
   "name": "python3"
  },
  "language_info": {
   "codemirror_mode": {
    "name": "ipython",
    "version": 3
   },
   "file_extension": ".py",
   "mimetype": "text/x-python",
   "name": "python",
   "nbconvert_exporter": "python",
   "pygments_lexer": "ipython3",
   "version": "3.8.10"
  }
 },
 "nbformat": 4,
 "nbformat_minor": 5
}
