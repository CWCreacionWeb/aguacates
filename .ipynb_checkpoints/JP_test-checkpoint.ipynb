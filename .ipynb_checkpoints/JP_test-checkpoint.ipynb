{
 "cells": [
  {
   "cell_type": "code",
   "execution_count": null,
   "id": "8148d709-72b0-488a-a9be-48b8333d56b5",
   "metadata": {},
   "outputs": [],
   "source": [
    "import P_Aguacate as P"
   ]
  },
  {
   "cell_type": "code",
   "execution_count": null,
   "id": "a9bc2ae6-889e-452f-b102-d2fd40ba3001",
   "metadata": {},
   "outputs": [],
   "source": [
    "P.Inicio()\n",
    "P.DatosORG\n"
   ]
  },
  {
   "cell_type": "code",
   "execution_count": null,
   "id": "81f5f25d-18ca-4a1e-82d5-b360e3aa09e0",
   "metadata": {},
   "outputs": [],
   "source": [
    "P.P1.P1_1_Inicio()"
   ]
  },
  {
   "cell_type": "code",
   "execution_count": null,
   "id": "35710eab-73be-49f4-a4f2-1efb7d42ecd5",
   "metadata": {
    "scrolled": true
   },
   "outputs": [],
   "source": [
    "#P.DatosORG\n",
    "P.DatosRegionClasificacionVolumen\n",
    "#P.DatosORG"
   ]
  },
  {
   "cell_type": "code",
   "execution_count": null,
   "id": "fe8b2d28-f6cc-45df-bd0b-e2af2afa64f7",
   "metadata": {},
   "outputs": [],
   "source": [
    "P.P1.P1_5_AnalisisCambiosPreciosAnuales('','Total Volume','region')\n",
    "P.P1.P1_5_AnalisisCambiosPreciosAnuales('','Total Volume','CalRegionGrupo')\n",
    "P.P1.P1_5_AnalisisCambiosPreciosAnuales('','AveragePrice','CalRegionGrupo')\n"
   ]
  },
  {
   "cell_type": "code",
   "execution_count": null,
   "id": "c363bc63-8fd5-47ef-97b9-e3cad280923b",
   "metadata": {},
   "outputs": [],
   "source": [
    "P.P1.P1_1_DescomposicionSerieTemporal(52,'AveragePrice')\n",
    "P.P1.P1_1_DescomposicionSerieTemporal(52,'Total Volume')\n",
    "\n",
    "P.P1.P1_1_DescomposicionSerieTemporal(4,'AveragePrice')\n",
    "P.P1.P1_1_DescomposicionSerieTemporal(4,'Total Volume')\n"
   ]
  },
  {
   "cell_type": "code",
   "execution_count": null,
   "id": "5bf9c5f3-edcc-4b79-81af-41ecf3f569ce",
   "metadata": {},
   "outputs": [],
   "source": [
    "P.P1.P1_2_EstacionalidadPorRegion()"
   ]
  },
  {
   "cell_type": "code",
   "execution_count": null,
   "id": "b2f620c7-476a-4205-a706-872e6902f776",
   "metadata": {},
   "outputs": [],
   "source": [
    "P.P1.P1_3_ComparacionPreciosPromedioMensuales('AveragePrice')"
   ]
  },
  {
   "cell_type": "code",
   "execution_count": null,
   "id": "d60cd2c0-c46d-48fa-aa84-79dceab00f17",
   "metadata": {
    "scrolled": true
   },
   "outputs": [],
   "source": [
    "P.P1.P1_3_ComparacionPreciosPromedioMensuales('Total Volume')"
   ]
  },
  {
   "cell_type": "code",
   "execution_count": null,
   "id": "b2eecc5a-3093-42cd-a180-295cbcc8eae8",
   "metadata": {},
   "outputs": [],
   "source": [
    "P.P1.P1_3_ComparacionPreciosPromedioMensuales('AveragePrice')"
   ]
  },
  {
   "cell_type": "code",
   "execution_count": null,
   "id": "0d4a8e8b-8627-48fe-a429-e01655b016b8",
   "metadata": {},
   "outputs": [],
   "source": [
    "P.P1.P1_4_TendenciaVentasALoLargoDelTiempo('Total Volume')"
   ]
  },
  {
   "cell_type": "code",
   "execution_count": null,
   "id": "7071aa79-02d7-4524-a6d7-6f5759dbd141",
   "metadata": {},
   "outputs": [],
   "source": [
    "P.P1.P1_4_TendenciaVentasALoLargoDelTiempo('AveragePrice')"
   ]
  },
  {
   "cell_type": "code",
   "execution_count": null,
   "id": "e43623c3-9e8d-4e7c-8669-614139449469",
   "metadata": {},
   "outputs": [],
   "source": [
    "P.P1.P1_5_AnalisisCambiosPreciosAnuales('Region','AveragePrice')\n",
    "P.P1.P1_5_AnalisisCambiosPreciosAnuales('City','AveragePrice')\n",
    "P.P1.P1_5_AnalisisCambiosPreciosAnuales('','AveragePrice')\n"
   ]
  },
  {
   "cell_type": "code",
   "execution_count": null,
   "id": "3c66857b-6d92-499a-bb29-5c719db39cf4",
   "metadata": {},
   "outputs": [],
   "source": [
    "P.P1.P1_5_AnalisisCambiosPreciosAnuales('','Total Volume','region')\n",
    "P.P1.P1_5_AnalisisCambiosPreciosAnuales('City','Total Volume','region')\n",
    "P.P1.P1_5_AnalisisCambiosPreciosAnuales('Region','Total Volume','region')\n",
    "P.P1.P1_5_AnalisisCambiosPreciosAnuales('GreaterRegion','Total Volume','region')\n",
    "P.P1.P1_5_AnalisisCambiosPreciosAnuales('TotalUS','Total Volume','region')\n",
    "\n"
   ]
  },
  {
   "cell_type": "code",
   "execution_count": null,
   "id": "73fec092-e05c-4074-8218-3093ff33d33f",
   "metadata": {},
   "outputs": [],
   "source": [
    "#P.P1.P21_Grafico_Violin_Volumen_Venta_Region(['Albany','Atlanta','TotalUS'])\n",
    "#P.P1.P21_Grafico_Violin_Volumen_Venta_Region(['Albany','Atlanta'])\n",
    "P.P2.P21_Grafico_Violin_Volumen_Venta_Region(['West','LosAngeles','Portland'])"
   ]
  },
  {
   "cell_type": "code",
   "execution_count": null,
   "id": "471f6c70-19f6-445c-b398-aa23e3193f3e",
   "metadata": {},
   "outputs": [],
   "source": [
    "P.P2.P22_Boxplot_Comparativo_Precios_Entre_Años()"
   ]
  },
  {
   "cell_type": "code",
   "execution_count": null,
   "id": "14f695b8-d37f-4081-b4c2-11ca051d9d79",
   "metadata": {},
   "outputs": [],
   "source": [
    "P.P2.P23_Histograma_Volumen_Total_Ventas()"
   ]
  },
  {
   "cell_type": "code",
   "execution_count": null,
   "id": "03f6f3d3-a5fa-4644-8ddc-af4ca61a8c42",
   "metadata": {},
   "outputs": [],
   "source": [
    "P.P2.P24_Grafico_Barras_Ventas_Tipo_Bolsa()"
   ]
  },
  {
   "cell_type": "code",
   "execution_count": null,
   "id": "43c518ef-1674-4442-950d-d7489e72d9e4",
   "metadata": {},
   "outputs": [],
   "source": [
    "P.P2.P25_Grafico_Lineas_Precios_Promedios_Año()"
   ]
  },
  {
   "cell_type": "code",
   "execution_count": null,
   "id": "24639392-710c-47eb-bbf8-7f238f3f143e",
   "metadata": {},
   "outputs": [],
   "source": [
    "P.P3.P3_1_Elasticidad_Precio_Demanda_Año('')\n",
    "# Los valores positivos indican una alta elasticidad la demanda sube cuando sube el precio cada 1% que aumenta el precio la venta sube un 6%\n",
    "# mientras que en el 2016 indica todo lo contrario la demanda sube cuando baja el precio, cada 1% que aumenta el precio la venta baja un 4%"
   ]
  },
  {
   "cell_type": "code",
   "execution_count": null,
   "id": "1e383ed9-fcfb-43f9-acee-f036a1573f82",
   "metadata": {},
   "outputs": [],
   "source": [
    "P.P3.P3_2_Elasticidad_Regiones()"
   ]
  },
  {
   "cell_type": "code",
   "execution_count": null,
   "id": "2df924b8-df7d-40cf-91f7-eaab1e60278b",
   "metadata": {},
   "outputs": [],
   "source": [
    "P.P3.P3_3_Elasticidad_Bolsas()"
   ]
  },
  {
   "cell_type": "code",
   "execution_count": null,
   "id": "b0a17c16-c28b-4543-9a07-29499ba6642b",
   "metadata": {},
   "outputs": [],
   "source": [
    "P.P3.P3_4_Elasticidad_Tipo()"
   ]
  },
  {
   "cell_type": "code",
   "execution_count": null,
   "id": "6a6db807-221d-4a80-9dea-f7c86b0a1dc0",
   "metadata": {},
   "outputs": [],
   "source": [
    "P.P3.P3_5_Elasticidad_Precio_Ventas()"
   ]
  },
  {
   "cell_type": "code",
   "execution_count": null,
   "id": "1bf9b6fb-0558-488d-a104-15f67a37b143",
   "metadata": {},
   "outputs": [],
   "source": [
    "P.P4.P4_1_CohortesPreciosPromedios()"
   ]
  },
  {
   "cell_type": "code",
   "execution_count": null,
   "id": "c72b27cc-e634-4e11-94cb-00d21ed836fb",
   "metadata": {
    "scrolled": true
   },
   "outputs": [],
   "source": [
    "P.P4.P4_2_CohortesRegionFecha('['Albany','Boise']','')"
   ]
  },
  {
   "cell_type": "code",
   "execution_count": null,
   "id": "090dcbcf-5417-4ca4-996d-0b897edb84cd",
   "metadata": {},
   "outputs": [],
   "source": [
    "P.P4.P4_2_CohortesRegionFechaB(['Albany','Boise'],2015)"
   ]
  },
  {
   "cell_type": "code",
   "execution_count": null,
   "id": "a65dcdca-08a8-4cba-8f64-74b0a668887a",
   "metadata": {},
   "outputs": [],
   "source": [
    "P.P4.P4_3_CohortesTipoBolsa()"
   ]
  },
  {
   "cell_type": "code",
   "execution_count": null,
   "id": "1e64521e-7bf6-4139-8ab3-e37dcafd4ba4",
   "metadata": {
    "scrolled": true
   },
   "outputs": [],
   "source": [
    "P.P4.P4_4_CohortesClientesVentas()"
   ]
  },
  {
   "cell_type": "code",
   "execution_count": null,
   "id": "47d48d84-74e1-4922-b686-9cb1bcb4352b",
   "metadata": {},
   "outputs": [],
   "source": [
    "P.P4.P4_5_RetencionVentasCohorte()"
   ]
  },
  {
   "cell_type": "code",
   "execution_count": null,
   "id": "fc15aff7-a987-4a8d-a929-ccb2ea52ff89",
   "metadata": {},
   "outputs": [],
   "source": [
    "P.P5.P5_1_MatrizCorrelacion()"
   ]
  },
  {
   "cell_type": "code",
   "execution_count": null,
   "id": "b0026ebf-332b-4f30-ab0d-0a85e90a58d7",
   "metadata": {},
   "outputs": [],
   "source": [
    "P.P5.P5_2_AnalisisDispersión()"
   ]
  },
  {
   "cell_type": "code",
   "execution_count": null,
   "id": "5fa63064-b2e5-4fa1-aef5-f9e4cec80fcd",
   "metadata": {},
   "outputs": [],
   "source": [
    "P.P5.P5_3_PrediccionesMensuales()"
   ]
  },
  {
   "cell_type": "code",
   "execution_count": null,
   "id": "28251735-ded1-4e22-9549-9ce73e53105b",
   "metadata": {},
   "outputs": [],
   "source": [
    "P.P5.P5_4_PrediccionesTrimestrales()"
   ]
  },
  {
   "cell_type": "code",
   "execution_count": null,
   "id": "bef6c589-67d0-4df8-8e7b-391a6d74e854",
   "metadata": {},
   "outputs": [],
   "source": [
    "P.P5.P5_5_PrediccionesAnuales()"
   ]
  },
  {
   "cell_type": "code",
   "execution_count": null,
   "id": "346e75d5-926a-49bb-ba90-e5d703ee905f",
   "metadata": {},
   "outputs": [],
   "source": [
    "P.P5.P5_6_ModelosRegresionMultiple()"
   ]
  },
  {
   "cell_type": "code",
   "execution_count": null,
   "id": "69cd6035-b177-4847-99d4-87d08cda8cd2",
   "metadata": {},
   "outputs": [],
   "source": [
    "P.P5.P5_7_CoefficientsRegresionMultiple()"
   ]
  },
  {
   "cell_type": "code",
   "execution_count": null,
   "id": "653faf6a-2d36-4ac2-8a5a-4ba49ee496b6",
   "metadata": {},
   "outputs": [],
   "source": [
    "P.P1.P1_1_DescomposicionSerieTemporal(52,'AveragePrice')"
   ]
  },
  {
   "cell_type": "code",
   "execution_count": null,
   "id": "da95aee1-42d8-46d8-bcd0-b8c734058786",
   "metadata": {},
   "outputs": [],
   "source": []
  }
 ],
 "metadata": {
  "kernelspec": {
   "display_name": "Python 3 (ipykernel)",
   "language": "python",
   "name": "python3"
  },
  "language_info": {
   "codemirror_mode": {
    "name": "ipython",
    "version": 3
   },
   "file_extension": ".py",
   "mimetype": "text/x-python",
   "name": "python",
   "nbconvert_exporter": "python",
   "pygments_lexer": "ipython3",
   "version": "3.8.10"
  }
 },
 "nbformat": 4,
 "nbformat_minor": 5
}
