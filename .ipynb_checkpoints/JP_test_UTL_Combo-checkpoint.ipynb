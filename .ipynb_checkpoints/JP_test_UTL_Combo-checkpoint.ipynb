{
 "cells": [
  {
   "cell_type": "code",
   "execution_count": 1,
   "id": "8148d709-72b0-488a-a9be-48b8333d56b5",
   "metadata": {},
   "outputs": [],
   "source": [
    "import UTL_Combo as P"
   ]
  },
  {
   "cell_type": "code",
   "execution_count": 2,
   "id": "c363bc63-8fd5-47ef-97b9-e3cad280923b",
   "metadata": {},
   "outputs": [
    {
     "data": {
      "application/vnd.jupyter.widget-view+json": {
       "model_id": "92e8dcc618a741e6b6789c77a941ce25",
       "version_major": 2,
       "version_minor": 0
      },
      "text/plain": [
       "Dropdown(description='Selecciona:', options=('opcion1', 'opcion2', 'opcion3', 'opcion4'), value='opcion1')"
      ]
     },
     "metadata": {},
     "output_type": "display_data"
    },
    {
     "data": {
      "application/vnd.jupyter.widget-view+json": {
       "model_id": "92e8dcc618a741e6b6789c77a941ce25",
       "version_major": 2,
       "version_minor": 0
      },
      "text/plain": [
       "Dropdown(description='Selecciona:', options=('opcion1', 'opcion2', 'opcion3', 'opcion4'), value='opcion1')"
      ]
     },
     "execution_count": 2,
     "metadata": {},
     "output_type": "execute_result"
    }
   ],
   "source": [
    "opciones = ['opcion1', 'opcion2', 'opcion3', 'opcion4']\n",
    "P.mostrar_combo_opciones(opciones)"
   ]
  },
  {
   "cell_type": "code",
   "execution_count": null,
   "id": "653faf6a-2d36-4ac2-8a5a-4ba49ee496b6",
   "metadata": {},
   "outputs": [],
   "source": []
  }
 ],
 "metadata": {
  "kernelspec": {
   "display_name": "Python 3 (ipykernel)",
   "language": "python",
   "name": "python3"
  },
  "language_info": {
   "codemirror_mode": {
    "name": "ipython",
    "version": 3
   },
   "file_extension": ".py",
   "mimetype": "text/x-python",
   "name": "python",
   "nbconvert_exporter": "python",
   "pygments_lexer": "ipython3",
   "version": "3.8.10"
  }
 },
 "nbformat": 4,
 "nbformat_minor": 5
}
