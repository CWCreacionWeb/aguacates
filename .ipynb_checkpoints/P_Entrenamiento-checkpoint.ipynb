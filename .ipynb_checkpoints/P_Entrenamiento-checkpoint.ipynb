{
 "cells": [
  {
   "cell_type": "code",
   "execution_count": null,
   "id": "b4d08410-d079-43d4-9496-cbf579b53ae7",
   "metadata": {},
   "outputs": [],
   "source": [
    "import P_Aguacate as P\n",
    "P.Inicio()"
   ]
  },
  {
   "cell_type": "code",
   "execution_count": null,
   "id": "03041a4f-378a-4251-8c29-65a4938f5295",
   "metadata": {},
   "outputs": [],
   "source": [
    "#P.P105_PRED.P100_1_Modelo_TRAINING_Mod('LinearRegression',ptrain_test_split ='SI')\n",
    "P.P105_PRED.P100_1_Modelo_TRAINING_Mod(pNameModelo='LinearRegression',pFechaReal='2018-10-01')\n",
    "P.P105_PRED.P105_3_PrediccionesMensuales('Media')\n"
   ]
  },
  {
   "cell_type": "code",
   "execution_count": null,
   "id": "e966e30a-bfa4-493c-bbc2-b060c737c9c9",
   "metadata": {},
   "outputs": [],
   "source": [
    "#P.P105_PRED.P100_1_Modelo_TRAINING_Mod('LinearRegression',ptrain_test_split ='SI')\n",
    "P.P105_PRED.P100_1_Modelo_TRAINING_Mod('RandomForestRegressor',pFechaReal='2017-11-01')\n",
    "P.P105_PRED.P105_3_PrediccionesMensuales('Media')\n"
   ]
  },
  {
   "cell_type": "code",
   "execution_count": null,
   "id": "a5d09adb-4f53-4bed-84a8-3ac016f4d44a",
   "metadata": {},
   "outputs": [],
   "source": []
  },
  {
   "cell_type": "code",
   "execution_count": null,
   "id": "20c5756a-d1cc-4db1-ba48-ddc983247983",
   "metadata": {},
   "outputs": [],
   "source": [
    "P.app_fun.APP_DatosORG\n"
   ]
  },
  {
   "cell_type": "code",
   "execution_count": null,
   "id": "2535245e-5e57-4f40-9371-8635f14cc8d1",
   "metadata": {},
   "outputs": [],
   "source": []
  }
 ],
 "metadata": {
  "kernelspec": {
   "display_name": "Python 3 (ipykernel)",
   "language": "python",
   "name": "python3"
  },
  "language_info": {
   "codemirror_mode": {
    "name": "ipython",
    "version": 3
   },
   "file_extension": ".py",
   "mimetype": "text/x-python",
   "name": "python",
   "nbconvert_exporter": "python",
   "pygments_lexer": "ipython3",
   "version": "3.8.10"
  }
 },
 "nbformat": 4,
 "nbformat_minor": 5
}
