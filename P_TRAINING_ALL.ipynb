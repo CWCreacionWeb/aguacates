{
 "cells": [
  {
   "cell_type": "code",
   "execution_count": 1,
   "id": "8148d709-72b0-488a-a9be-48b8333d56b5",
   "metadata": {
    "scrolled": true
   },
   "outputs": [
    {
     "name": "stderr",
     "output_type": "stream",
     "text": [
      "/home/jbentezag/.local/lib/python3.8/site-packages/xgboost/core.py:265: FutureWarning: Your system has an old version of glibc (< 2.28). We will stop supporting Linux distros with glibc older than 2.28 after **May 31, 2025**. Please upgrade to a recent Linux distro (with glibc 2.28+) to use future versions of XGBoost.\n",
      "Note: You have installed the 'manylinux2014' variant of XGBoost. Certain features such as GPU algorithms or federated learning are not available. To use these features, please upgrade to a recent Linux distro with glibc 2.28+, and install the 'manylinux_2_28' variant.\n",
      "  warnings.warn(\n"
     ]
    }
   ],
   "source": [
    "import P_Aguacate as P"
   ]
  },
  {
   "cell_type": "code",
   "execution_count": 2,
   "id": "a9bc2ae6-889e-452f-b102-d2fd40ba3001",
   "metadata": {},
   "outputs": [
    {
     "name": "stdout",
     "output_type": "stream",
     "text": [
      "**********************************\n",
      "Cargando fichero :datos/avocado.csv\n",
      "numero Registros :18249\n",
      "numero Columnas :14\n",
      "**********************************\n",
      "\n"
     ]
    },
    {
     "data": {
      "text/markdown": [
       "\n",
       "\n",
       "- **Añade las siguientes columnas a la tabla**: \n",
       "    - **CalFecha:** Convierte el campo dato de un string con formato yyyy-mm-dd \n",
       "    - **CalYear:** Componente Year de la fecha\n",
       "    - **CalMes:** Componente Mes de la fecha  \n",
       "\n",
       "- **Columnas FECHA formato numerico para los modelos de entrenamiento**: \n",
       "    - **Cal_AAAAMM:** \n",
       "    - **Cal_AAAA:** \n",
       "    - **Cal_MM:** \n",
       "    - **Cal_MM:** \n",
       "    - **Cal_SS:** \n",
       "    - **Cal_DDD:** \n",
       "    - **Cal_AAAADDD:** \n",
       "\n",
       "- **Columnas NORMALIZADAS para los modelos de entrenamiento**: \n",
       "    - **CalNOR_Z_TotalVolume:**  Z-Score Normalization\n",
       "    - **CalNOR_MM_TotalVolume:**  Min-Max Normalization\n",
       "    - **Cal_NOR_MM_AAAADDD:**  Min-Max Normalization para DDD entre 1 y 1000\n",
       "\n",
       "    \n",
       "    \n",
       "**Validaciónes**  \n",
       "  **errores_conversion CalFecha:** 0"
      ],
      "text/plain": [
       "<IPython.core.display.Markdown object>"
      ]
     },
     "metadata": {},
     "output_type": "display_data"
    },
    {
     "data": {
      "text/markdown": [
       "\n",
       "\n",
       "- **PreparacionDatosSegmentacion** Añade las siguientes columnas de Segmentación a la tabla: \n",
       "    - **CalRegionGrupo:** Agrupación de region en `City,Region,GreaterRegion,TotalUS`\n",
       "    - **CalEstacion:** Estación del año para ese mes, `Verano,Otoño etc`\n",
       "    "
      ],
      "text/plain": [
       "<IPython.core.display.Markdown object>"
      ]
     },
     "metadata": {},
     "output_type": "display_data"
    },
    {
     "data": {
      "text/markdown": [
       "\n",
       "- **PreparacionDatosClasificacionVolumen**  A partir del volumen, calcula el peso de cada region\n",
       "    - **CalRegion_Total_Volume:** Total Volumen de la región\n",
       "    - **CalRegion_Porcentaje:** Porcentaje sobre el total\n",
       "    - **CalRegion_Acumulado_Total_Volume:** Acumulado a efectos de ordenación\n",
       "    - **CalRegion_Acumulado_Porcentaje:** Acumulado a efectos de ordenación\n",
       "\n",
       "De este dataFrame obtenido, se desnormaliza y añade a los datos estos campos.\n",
       "\n",
       "    "
      ],
      "text/plain": [
       "<IPython.core.display.Markdown object>"
      ]
     },
     "metadata": {},
     "output_type": "display_data"
    },
    {
     "name": "stdout",
     "output_type": "stream",
     "text": [
      "\n"
     ]
    }
   ],
   "source": [
    "P.Inicio()\n",
    "#P.DatosORG\n",
    "#P.DatosRegionClasificacionVolumen\n"
   ]
  },
  {
   "cell_type": "code",
   "execution_count": 3,
   "id": "8334897c-8ec5-4116-a4ec-11d762a43ae2",
   "metadata": {},
   "outputs": [
    {
     "data": {
      "text/html": [
       "<span style=\"font-size: 20px; color: blue;\">255 <BR>Combinacion campos:['Total Volume', 'CalNOR_MM_TotalVolume', 'Cal_AAAAMM', 'Cal_AAAA', 'Cal_MM', 'Cal_SS', 'Cal_DDD', 'Cal_AAAADDD']</span>"
      ],
      "text/plain": [
       "<IPython.core.display.HTML object>"
      ]
     },
     "metadata": {},
     "output_type": "display_data"
    },
    {
     "data": {
      "text/html": [
       "LinearRegression Error  inf a -inf con campos None<br>"
      ],
      "text/plain": [
       "<IPython.core.display.HTML object>"
      ]
     },
     "metadata": {},
     "output_type": "display_data"
    },
    {
     "name": "stdout",
     "output_type": "stream",
     "text": [
      "Registros guardados en: modelos_training\n",
      "Registros exportados a: P_TRAINING_Resultado.xlsx\n",
      "Archivo Excel guardado como 'xls/P5_3_TRAINING_LinearRegression202411120424.xlsx'\n",
      "Registros guardados en: P00_TRAINING_RES\n",
      "Registros exportados a: P_TRAINING_Resultado.xlsx\n"
     ]
    },
    {
     "data": {
      "text/html": [
       "<a href=\"P_TRAINING_Resultado.xlsx\" download style=\"font-size: 14px; color: blue; text-decoration: underline;\">Descargar archivo Excel</a>"
      ],
      "text/plain": [
       "<IPython.core.display.HTML object>"
      ]
     },
     "metadata": {},
     "output_type": "display_data"
    }
   ],
   "source": [
    "#P.P99_T.P100_1_Modelo_TRAINING_Mod(True)\n",
    "P.P99_T.P99_1_Modelo_TRAINING_UNO()\n"
   ]
  },
  {
   "cell_type": "code",
   "execution_count": null,
   "id": "718507e4-fea5-4c1a-9979-c51d69f19133",
   "metadata": {},
   "outputs": [],
   "source": []
  }
 ],
 "metadata": {
  "kernelspec": {
   "display_name": "Python 3 (ipykernel)",
   "language": "python",
   "name": "python3"
  },
  "language_info": {
   "codemirror_mode": {
    "name": "ipython",
    "version": 3
   },
   "file_extension": ".py",
   "mimetype": "text/x-python",
   "name": "python",
   "nbconvert_exporter": "python",
   "pygments_lexer": "ipython3",
   "version": "3.8.10"
  }
 },
 "nbformat": 4,
 "nbformat_minor": 5
}
